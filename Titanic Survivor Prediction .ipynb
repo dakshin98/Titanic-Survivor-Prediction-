{
 "cells": [
  {
   "cell_type": "code",
   "execution_count": 1,
   "id": "ffb86136",
   "metadata": {
    "execution": {
     "iopub.execute_input": "2022-02-17T08:59:20.767718Z",
     "iopub.status.busy": "2022-02-17T08:59:20.767092Z",
     "iopub.status.idle": "2022-02-17T08:59:21.874131Z",
     "shell.execute_reply": "2022-02-17T08:59:21.873475Z",
     "shell.execute_reply.started": "2022-02-17T08:38:45.009696Z"
    },
    "papermill": {
     "duration": 1.16696,
     "end_time": "2022-02-17T08:59:21.874306",
     "exception": false,
     "start_time": "2022-02-17T08:59:20.707346",
     "status": "completed"
    },
    "tags": []
   },
   "outputs": [],
   "source": [
    "import numpy as np\n",
    "import pandas as pd\n",
    "import matplotlib.pyplot as plt\n",
    "import seaborn as sns\n",
    "%matplotlib inline"
   ]
  },
  {
   "cell_type": "code",
   "execution_count": 2,
   "id": "89c3712a",
   "metadata": {
    "execution": {
     "iopub.execute_input": "2022-02-17T08:59:21.973812Z",
     "iopub.status.busy": "2022-02-17T08:59:21.972904Z",
     "iopub.status.idle": "2022-02-17T08:59:22.023744Z",
     "shell.execute_reply": "2022-02-17T08:59:22.023142Z",
     "shell.execute_reply.started": "2022-02-17T08:38:46.035912Z"
    },
    "papermill": {
     "duration": 0.102081,
     "end_time": "2022-02-17T08:59:22.023903",
     "exception": false,
     "start_time": "2022-02-17T08:59:21.921822",
     "status": "completed"
    },
    "tags": []
   },
   "outputs": [
    {
     "data": {
      "text/html": [
       "<div>\n",
       "<style scoped>\n",
       "    .dataframe tbody tr th:only-of-type {\n",
       "        vertical-align: middle;\n",
       "    }\n",
       "\n",
       "    .dataframe tbody tr th {\n",
       "        vertical-align: top;\n",
       "    }\n",
       "\n",
       "    .dataframe thead th {\n",
       "        text-align: right;\n",
       "    }\n",
       "</style>\n",
       "<table border=\"1\" class=\"dataframe\">\n",
       "  <thead>\n",
       "    <tr style=\"text-align: right;\">\n",
       "      <th></th>\n",
       "      <th>PassengerId</th>\n",
       "      <th>Survived</th>\n",
       "      <th>Pclass</th>\n",
       "      <th>Name</th>\n",
       "      <th>Sex</th>\n",
       "      <th>Age</th>\n",
       "      <th>SibSp</th>\n",
       "      <th>Parch</th>\n",
       "      <th>Ticket</th>\n",
       "      <th>Fare</th>\n",
       "      <th>Cabin</th>\n",
       "      <th>Embarked</th>\n",
       "    </tr>\n",
       "  </thead>\n",
       "  <tbody>\n",
       "    <tr>\n",
       "      <th>0</th>\n",
       "      <td>1</td>\n",
       "      <td>0</td>\n",
       "      <td>3</td>\n",
       "      <td>Braund, Mr. Owen Harris</td>\n",
       "      <td>male</td>\n",
       "      <td>22.0</td>\n",
       "      <td>1</td>\n",
       "      <td>0</td>\n",
       "      <td>A/5 21171</td>\n",
       "      <td>7.2500</td>\n",
       "      <td>NaN</td>\n",
       "      <td>S</td>\n",
       "    </tr>\n",
       "    <tr>\n",
       "      <th>1</th>\n",
       "      <td>2</td>\n",
       "      <td>1</td>\n",
       "      <td>1</td>\n",
       "      <td>Cumings, Mrs. John Bradley (Florence Briggs Th...</td>\n",
       "      <td>female</td>\n",
       "      <td>38.0</td>\n",
       "      <td>1</td>\n",
       "      <td>0</td>\n",
       "      <td>PC 17599</td>\n",
       "      <td>71.2833</td>\n",
       "      <td>C85</td>\n",
       "      <td>C</td>\n",
       "    </tr>\n",
       "    <tr>\n",
       "      <th>2</th>\n",
       "      <td>3</td>\n",
       "      <td>1</td>\n",
       "      <td>3</td>\n",
       "      <td>Heikkinen, Miss. Laina</td>\n",
       "      <td>female</td>\n",
       "      <td>26.0</td>\n",
       "      <td>0</td>\n",
       "      <td>0</td>\n",
       "      <td>STON/O2. 3101282</td>\n",
       "      <td>7.9250</td>\n",
       "      <td>NaN</td>\n",
       "      <td>S</td>\n",
       "    </tr>\n",
       "    <tr>\n",
       "      <th>3</th>\n",
       "      <td>4</td>\n",
       "      <td>1</td>\n",
       "      <td>1</td>\n",
       "      <td>Futrelle, Mrs. Jacques Heath (Lily May Peel)</td>\n",
       "      <td>female</td>\n",
       "      <td>35.0</td>\n",
       "      <td>1</td>\n",
       "      <td>0</td>\n",
       "      <td>113803</td>\n",
       "      <td>53.1000</td>\n",
       "      <td>C123</td>\n",
       "      <td>S</td>\n",
       "    </tr>\n",
       "    <tr>\n",
       "      <th>4</th>\n",
       "      <td>5</td>\n",
       "      <td>0</td>\n",
       "      <td>3</td>\n",
       "      <td>Allen, Mr. William Henry</td>\n",
       "      <td>male</td>\n",
       "      <td>35.0</td>\n",
       "      <td>0</td>\n",
       "      <td>0</td>\n",
       "      <td>373450</td>\n",
       "      <td>8.0500</td>\n",
       "      <td>NaN</td>\n",
       "      <td>S</td>\n",
       "    </tr>\n",
       "  </tbody>\n",
       "</table>\n",
       "</div>"
      ],
      "text/plain": [
       "   PassengerId  Survived  Pclass  \\\n",
       "0            1         0       3   \n",
       "1            2         1       1   \n",
       "2            3         1       3   \n",
       "3            4         1       1   \n",
       "4            5         0       3   \n",
       "\n",
       "                                                Name     Sex   Age  SibSp  \\\n",
       "0                            Braund, Mr. Owen Harris    male  22.0      1   \n",
       "1  Cumings, Mrs. John Bradley (Florence Briggs Th...  female  38.0      1   \n",
       "2                             Heikkinen, Miss. Laina  female  26.0      0   \n",
       "3       Futrelle, Mrs. Jacques Heath (Lily May Peel)  female  35.0      1   \n",
       "4                           Allen, Mr. William Henry    male  35.0      0   \n",
       "\n",
       "   Parch            Ticket     Fare Cabin Embarked  \n",
       "0      0         A/5 21171   7.2500   NaN        S  \n",
       "1      0          PC 17599  71.2833   C85        C  \n",
       "2      0  STON/O2. 3101282   7.9250   NaN        S  \n",
       "3      0            113803  53.1000  C123        S  \n",
       "4      0            373450   8.0500   NaN        S  "
      ]
     },
     "execution_count": 2,
     "metadata": {},
     "output_type": "execute_result"
    }
   ],
   "source": [
    "df_train = pd.read_csv(\"/kaggle/input/titanic/train.csv\")\n",
    "df_test = pd.read_csv(\"/kaggle/input/titanic/test.csv\")\n",
    "df_train.head()"
   ]
  },
  {
   "cell_type": "code",
   "execution_count": 3,
   "id": "4496cf10",
   "metadata": {
    "execution": {
     "iopub.execute_input": "2022-02-17T08:59:22.317294Z",
     "iopub.status.busy": "2022-02-17T08:59:22.316532Z",
     "iopub.status.idle": "2022-02-17T08:59:22.906508Z",
     "shell.execute_reply": "2022-02-17T08:59:22.905751Z",
     "shell.execute_reply.started": "2022-02-11T12:46:15.405895Z"
    },
    "papermill": {
     "duration": 0.646259,
     "end_time": "2022-02-17T08:59:22.906761",
     "exception": false,
     "start_time": "2022-02-17T08:59:22.260502",
     "status": "completed"
    },
    "tags": []
   },
   "outputs": [
    {
     "name": "stdout",
     "output_type": "stream",
     "text": [
      "Your submission was successfully saved!\n"
     ]
    }
   ],
   "source": [
    "train_data = pd.read_csv(\"/kaggle/input/titanic/train.csv\")\n",
    "test_data = pd.read_csv(\"/kaggle/input/titanic/test.csv\")\n",
    "\n",
    "from sklearn.ensemble import RandomForestClassifier\n",
    "\n",
    "y = train_data[\"Survived\"]\n",
    "\n",
    "features = [\"Pclass\", \"Sex\", \"SibSp\", \"Parch\"]\n",
    "X = pd.get_dummies(train_data[features])\n",
    "X_test = pd.get_dummies(test_data[features])\n",
    "\n",
    "model = RandomForestClassifier(n_estimators=100, max_depth=5, random_state=1)\n",
    "model.fit(X, y)\n",
    "predictions = model.predict(X_test)\n",
    "\n",
    "output = pd.DataFrame({'PassengerId': test_data.PassengerId, 'Survived': predictions})\n",
    "output.to_csv('submission.csv', index=False)\n",
    "print(\"Your submission was successfully saved!\")"
   ]
  },
  {
   "cell_type": "markdown",
   "id": "cb86df4f",
   "metadata": {
    "papermill": {
     "duration": 0.047664,
     "end_time": "2022-02-17T08:59:23.099123",
     "exception": false,
     "start_time": "2022-02-17T08:59:23.051459",
     "status": "completed"
    },
    "tags": []
   },
   "source": [
    "# 1. Understanding the Data"
   ]
  },
  {
   "cell_type": "code",
   "execution_count": 4,
   "id": "0d70ed62",
   "metadata": {
    "execution": {
     "iopub.execute_input": "2022-02-17T08:59:23.198832Z",
     "iopub.status.busy": "2022-02-17T08:59:23.198134Z",
     "iopub.status.idle": "2022-02-17T08:59:23.227007Z",
     "shell.execute_reply": "2022-02-17T08:59:23.226400Z",
     "shell.execute_reply.started": "2022-02-17T08:38:57.745405Z"
    },
    "papermill": {
     "duration": 0.080124,
     "end_time": "2022-02-17T08:59:23.227151",
     "exception": false,
     "start_time": "2022-02-17T08:59:23.147027",
     "status": "completed"
    },
    "scrolled": true,
    "tags": []
   },
   "outputs": [
    {
     "name": "stdout",
     "output_type": "stream",
     "text": [
      "<class 'pandas.core.frame.DataFrame'>\n",
      "RangeIndex: 891 entries, 0 to 890\n",
      "Data columns (total 12 columns):\n",
      " #   Column       Non-Null Count  Dtype  \n",
      "---  ------       --------------  -----  \n",
      " 0   PassengerId  891 non-null    int64  \n",
      " 1   Survived     891 non-null    int64  \n",
      " 2   Pclass       891 non-null    int64  \n",
      " 3   Name         891 non-null    object \n",
      " 4   Sex          891 non-null    object \n",
      " 5   Age          714 non-null    float64\n",
      " 6   SibSp        891 non-null    int64  \n",
      " 7   Parch        891 non-null    int64  \n",
      " 8   Ticket       891 non-null    object \n",
      " 9   Fare         891 non-null    float64\n",
      " 10  Cabin        204 non-null    object \n",
      " 11  Embarked     889 non-null    object \n",
      "dtypes: float64(2), int64(5), object(5)\n",
      "memory usage: 83.7+ KB\n",
      "\n",
      "--------------------------------------------------\n",
      "\n",
      "# of Missing values in train data:\n",
      "Cabin       687\n",
      "Age         177\n",
      "Embarked      2\n",
      "dtype: int64\n",
      "# of Missing values in test data:\n",
      "Cabin    327\n",
      "Age       86\n",
      "Fare       1\n",
      "dtype: int64\n",
      "\n",
      "--------------------------------------------------\n",
      "\n",
      "Distribution of Survived column:\n"
     ]
    },
    {
     "data": {
      "text/plain": [
       "0    549\n",
       "1    342\n",
       "Name: Survived, dtype: int64"
      ]
     },
     "execution_count": 4,
     "metadata": {},
     "output_type": "execute_result"
    }
   ],
   "source": [
    "df_train.info()\n",
    "print(\"\\n\" + \"-\"*50 + \"\\n\")\n",
    "\n",
    "print(\"# of Missing values in train data:\")\n",
    "n_miss_val = df_train.isnull().sum().sort_values(ascending=False)\n",
    "print(n_miss_val[n_miss_val>0])\n",
    "print(\"# of Missing values in test data:\")\n",
    "n_miss_val_test = df_test.isnull().sum().sort_values(ascending=False)\n",
    "print(n_miss_val_test[n_miss_val_test>0])\n",
    "print(\"\\n\" + \"-\"*50 + \"\\n\")\n",
    "\n",
    "print(\"Distribution of Survived column:\")\n",
    "df_train[\"Survived\"].value_counts()"
   ]
  },
  {
   "cell_type": "code",
   "execution_count": 5,
   "id": "76b856c4",
   "metadata": {
    "execution": {
     "iopub.execute_input": "2022-02-17T08:59:23.531777Z",
     "iopub.status.busy": "2022-02-17T08:59:23.530916Z",
     "iopub.status.idle": "2022-02-17T08:59:23.535179Z",
     "shell.execute_reply": "2022-02-17T08:59:23.534534Z",
     "shell.execute_reply.started": "2022-02-17T08:38:59.007704Z"
    },
    "papermill": {
     "duration": 0.067563,
     "end_time": "2022-02-17T08:59:23.535324",
     "exception": false,
     "start_time": "2022-02-17T08:59:23.467761",
     "status": "completed"
    },
    "tags": []
   },
   "outputs": [
    {
     "data": {
      "text/html": [
       "<div>\n",
       "<style scoped>\n",
       "    .dataframe tbody tr th:only-of-type {\n",
       "        vertical-align: middle;\n",
       "    }\n",
       "\n",
       "    .dataframe tbody tr th {\n",
       "        vertical-align: top;\n",
       "    }\n",
       "\n",
       "    .dataframe thead th {\n",
       "        text-align: right;\n",
       "    }\n",
       "</style>\n",
       "<table border=\"1\" class=\"dataframe\">\n",
       "  <thead>\n",
       "    <tr style=\"text-align: right;\">\n",
       "      <th></th>\n",
       "      <th>Pclass</th>\n",
       "      <th>Survived</th>\n",
       "    </tr>\n",
       "  </thead>\n",
       "  <tbody>\n",
       "    <tr>\n",
       "      <th>0</th>\n",
       "      <td>1</td>\n",
       "      <td>0.629630</td>\n",
       "    </tr>\n",
       "    <tr>\n",
       "      <th>1</th>\n",
       "      <td>2</td>\n",
       "      <td>0.472826</td>\n",
       "    </tr>\n",
       "    <tr>\n",
       "      <th>2</th>\n",
       "      <td>3</td>\n",
       "      <td>0.242363</td>\n",
       "    </tr>\n",
       "  </tbody>\n",
       "</table>\n",
       "</div>"
      ],
      "text/plain": [
       "   Pclass  Survived\n",
       "0       1  0.629630\n",
       "1       2  0.472826\n",
       "2       3  0.242363"
      ]
     },
     "execution_count": 5,
     "metadata": {},
     "output_type": "execute_result"
    }
   ],
   "source": [
    "df_train[[\"Pclass\", \"Survived\"]].groupby([\"Pclass\"], as_index=False).mean()"
   ]
  },
  {
   "cell_type": "code",
   "execution_count": 6,
   "id": "e02f11cf",
   "metadata": {
    "execution": {
     "iopub.execute_input": "2022-02-17T08:59:23.636791Z",
     "iopub.status.busy": "2022-02-17T08:59:23.636150Z",
     "iopub.status.idle": "2022-02-17T08:59:23.647130Z",
     "shell.execute_reply": "2022-02-17T08:59:23.647602Z",
     "shell.execute_reply.started": "2022-02-17T08:38:59.412101Z"
    },
    "papermill": {
     "duration": 0.06281,
     "end_time": "2022-02-17T08:59:23.647797",
     "exception": false,
     "start_time": "2022-02-17T08:59:23.584987",
     "status": "completed"
    },
    "tags": []
   },
   "outputs": [
    {
     "data": {
      "text/html": [
       "<div>\n",
       "<style scoped>\n",
       "    .dataframe tbody tr th:only-of-type {\n",
       "        vertical-align: middle;\n",
       "    }\n",
       "\n",
       "    .dataframe tbody tr th {\n",
       "        vertical-align: top;\n",
       "    }\n",
       "\n",
       "    .dataframe thead th {\n",
       "        text-align: right;\n",
       "    }\n",
       "</style>\n",
       "<table border=\"1\" class=\"dataframe\">\n",
       "  <thead>\n",
       "    <tr style=\"text-align: right;\">\n",
       "      <th></th>\n",
       "      <th>Sex</th>\n",
       "      <th>Survived</th>\n",
       "    </tr>\n",
       "  </thead>\n",
       "  <tbody>\n",
       "    <tr>\n",
       "      <th>0</th>\n",
       "      <td>female</td>\n",
       "      <td>0.742038</td>\n",
       "    </tr>\n",
       "    <tr>\n",
       "      <th>1</th>\n",
       "      <td>male</td>\n",
       "      <td>0.188908</td>\n",
       "    </tr>\n",
       "  </tbody>\n",
       "</table>\n",
       "</div>"
      ],
      "text/plain": [
       "      Sex  Survived\n",
       "0  female  0.742038\n",
       "1    male  0.188908"
      ]
     },
     "execution_count": 6,
     "metadata": {},
     "output_type": "execute_result"
    }
   ],
   "source": [
    "df_train[[\"Sex\", \"Survived\"]].groupby([\"Sex\"], as_index=False).mean()"
   ]
  },
  {
   "cell_type": "code",
   "execution_count": 7,
   "id": "e1f4caf3",
   "metadata": {
    "execution": {
     "iopub.execute_input": "2022-02-17T08:59:23.945452Z",
     "iopub.status.busy": "2022-02-17T08:59:23.944847Z",
     "iopub.status.idle": "2022-02-17T08:59:23.959111Z",
     "shell.execute_reply": "2022-02-17T08:59:23.959551Z",
     "shell.execute_reply.started": "2022-02-17T08:39:00.525717Z"
    },
    "papermill": {
     "duration": 0.06678,
     "end_time": "2022-02-17T08:59:23.959741",
     "exception": false,
     "start_time": "2022-02-17T08:59:23.892961",
     "status": "completed"
    },
    "tags": []
   },
   "outputs": [
    {
     "data": {
      "text/html": [
       "<div>\n",
       "<style scoped>\n",
       "    .dataframe tbody tr th:only-of-type {\n",
       "        vertical-align: middle;\n",
       "    }\n",
       "\n",
       "    .dataframe tbody tr th {\n",
       "        vertical-align: top;\n",
       "    }\n",
       "\n",
       "    .dataframe thead tr th {\n",
       "        text-align: left;\n",
       "    }\n",
       "\n",
       "    .dataframe thead tr:last-of-type th {\n",
       "        text-align: right;\n",
       "    }\n",
       "</style>\n",
       "<table border=\"1\" class=\"dataframe\">\n",
       "  <thead>\n",
       "    <tr>\n",
       "      <th></th>\n",
       "      <th colspan=\"2\" halign=\"left\">Survived</th>\n",
       "    </tr>\n",
       "    <tr>\n",
       "      <th></th>\n",
       "      <th>count</th>\n",
       "      <th>mean</th>\n",
       "    </tr>\n",
       "    <tr>\n",
       "      <th>SibSp</th>\n",
       "      <th></th>\n",
       "      <th></th>\n",
       "    </tr>\n",
       "  </thead>\n",
       "  <tbody>\n",
       "    <tr>\n",
       "      <th>0</th>\n",
       "      <td>608</td>\n",
       "      <td>0.345395</td>\n",
       "    </tr>\n",
       "    <tr>\n",
       "      <th>1</th>\n",
       "      <td>209</td>\n",
       "      <td>0.535885</td>\n",
       "    </tr>\n",
       "    <tr>\n",
       "      <th>2</th>\n",
       "      <td>28</td>\n",
       "      <td>0.464286</td>\n",
       "    </tr>\n",
       "    <tr>\n",
       "      <th>3</th>\n",
       "      <td>16</td>\n",
       "      <td>0.250000</td>\n",
       "    </tr>\n",
       "    <tr>\n",
       "      <th>4</th>\n",
       "      <td>18</td>\n",
       "      <td>0.166667</td>\n",
       "    </tr>\n",
       "    <tr>\n",
       "      <th>5</th>\n",
       "      <td>5</td>\n",
       "      <td>0.000000</td>\n",
       "    </tr>\n",
       "    <tr>\n",
       "      <th>8</th>\n",
       "      <td>7</td>\n",
       "      <td>0.000000</td>\n",
       "    </tr>\n",
       "  </tbody>\n",
       "</table>\n",
       "</div>"
      ],
      "text/plain": [
       "      Survived          \n",
       "         count      mean\n",
       "SibSp                   \n",
       "0          608  0.345395\n",
       "1          209  0.535885\n",
       "2           28  0.464286\n",
       "3           16  0.250000\n",
       "4           18  0.166667\n",
       "5            5  0.000000\n",
       "8            7  0.000000"
      ]
     },
     "execution_count": 7,
     "metadata": {},
     "output_type": "execute_result"
    }
   ],
   "source": [
    "df_train[[\"SibSp\", \"Survived\"]].groupby(\"SibSp\").agg([\"count\",\"mean\"])"
   ]
  },
  {
   "cell_type": "code",
   "execution_count": 8,
   "id": "867901db",
   "metadata": {
    "execution": {
     "iopub.execute_input": "2022-02-17T08:59:24.064116Z",
     "iopub.status.busy": "2022-02-17T08:59:24.063422Z",
     "iopub.status.idle": "2022-02-17T08:59:24.076979Z",
     "shell.execute_reply": "2022-02-17T08:59:24.077430Z",
     "shell.execute_reply.started": "2022-02-17T08:39:00.881171Z"
    },
    "papermill": {
     "duration": 0.067071,
     "end_time": "2022-02-17T08:59:24.077600",
     "exception": false,
     "start_time": "2022-02-17T08:59:24.010529",
     "status": "completed"
    },
    "tags": []
   },
   "outputs": [
    {
     "data": {
      "text/html": [
       "<div>\n",
       "<style scoped>\n",
       "    .dataframe tbody tr th:only-of-type {\n",
       "        vertical-align: middle;\n",
       "    }\n",
       "\n",
       "    .dataframe tbody tr th {\n",
       "        vertical-align: top;\n",
       "    }\n",
       "\n",
       "    .dataframe thead tr th {\n",
       "        text-align: left;\n",
       "    }\n",
       "\n",
       "    .dataframe thead tr:last-of-type th {\n",
       "        text-align: right;\n",
       "    }\n",
       "</style>\n",
       "<table border=\"1\" class=\"dataframe\">\n",
       "  <thead>\n",
       "    <tr>\n",
       "      <th></th>\n",
       "      <th colspan=\"2\" halign=\"left\">Survived</th>\n",
       "    </tr>\n",
       "    <tr>\n",
       "      <th></th>\n",
       "      <th>count</th>\n",
       "      <th>mean</th>\n",
       "    </tr>\n",
       "    <tr>\n",
       "      <th>Parch</th>\n",
       "      <th></th>\n",
       "      <th></th>\n",
       "    </tr>\n",
       "  </thead>\n",
       "  <tbody>\n",
       "    <tr>\n",
       "      <th>0</th>\n",
       "      <td>678</td>\n",
       "      <td>0.343658</td>\n",
       "    </tr>\n",
       "    <tr>\n",
       "      <th>1</th>\n",
       "      <td>118</td>\n",
       "      <td>0.550847</td>\n",
       "    </tr>\n",
       "    <tr>\n",
       "      <th>2</th>\n",
       "      <td>80</td>\n",
       "      <td>0.500000</td>\n",
       "    </tr>\n",
       "    <tr>\n",
       "      <th>3</th>\n",
       "      <td>5</td>\n",
       "      <td>0.600000</td>\n",
       "    </tr>\n",
       "    <tr>\n",
       "      <th>4</th>\n",
       "      <td>4</td>\n",
       "      <td>0.000000</td>\n",
       "    </tr>\n",
       "    <tr>\n",
       "      <th>5</th>\n",
       "      <td>5</td>\n",
       "      <td>0.200000</td>\n",
       "    </tr>\n",
       "    <tr>\n",
       "      <th>6</th>\n",
       "      <td>1</td>\n",
       "      <td>0.000000</td>\n",
       "    </tr>\n",
       "  </tbody>\n",
       "</table>\n",
       "</div>"
      ],
      "text/plain": [
       "      Survived          \n",
       "         count      mean\n",
       "Parch                   \n",
       "0          678  0.343658\n",
       "1          118  0.550847\n",
       "2           80  0.500000\n",
       "3            5  0.600000\n",
       "4            4  0.000000\n",
       "5            5  0.200000\n",
       "6            1  0.000000"
      ]
     },
     "execution_count": 8,
     "metadata": {},
     "output_type": "execute_result"
    }
   ],
   "source": [
    "df_train[[\"Parch\", \"Survived\"]].groupby(\"Parch\").agg([\"count\",\"mean\"])"
   ]
  },
  {
   "cell_type": "code",
   "execution_count": 9,
   "id": "c95e7c3a",
   "metadata": {
    "execution": {
     "iopub.execute_input": "2022-02-17T08:59:24.283927Z",
     "iopub.status.busy": "2022-02-17T08:59:24.283270Z",
     "iopub.status.idle": "2022-02-17T08:59:24.299065Z",
     "shell.execute_reply": "2022-02-17T08:59:24.298486Z",
     "shell.execute_reply.started": "2022-02-17T08:39:01.646539Z"
    },
    "papermill": {
     "duration": 0.069469,
     "end_time": "2022-02-17T08:59:24.299207",
     "exception": false,
     "start_time": "2022-02-17T08:59:24.229738",
     "status": "completed"
    },
    "tags": []
   },
   "outputs": [
    {
     "data": {
      "text/html": [
       "<div>\n",
       "<style scoped>\n",
       "    .dataframe tbody tr th:only-of-type {\n",
       "        vertical-align: middle;\n",
       "    }\n",
       "\n",
       "    .dataframe tbody tr th {\n",
       "        vertical-align: top;\n",
       "    }\n",
       "\n",
       "    .dataframe thead tr th {\n",
       "        text-align: left;\n",
       "    }\n",
       "\n",
       "    .dataframe thead tr:last-of-type th {\n",
       "        text-align: right;\n",
       "    }\n",
       "</style>\n",
       "<table border=\"1\" class=\"dataframe\">\n",
       "  <thead>\n",
       "    <tr>\n",
       "      <th></th>\n",
       "      <th colspan=\"2\" halign=\"left\">Survived</th>\n",
       "    </tr>\n",
       "    <tr>\n",
       "      <th></th>\n",
       "      <th>count</th>\n",
       "      <th>mean</th>\n",
       "    </tr>\n",
       "    <tr>\n",
       "      <th>FamSize</th>\n",
       "      <th></th>\n",
       "      <th></th>\n",
       "    </tr>\n",
       "  </thead>\n",
       "  <tbody>\n",
       "    <tr>\n",
       "      <th>0</th>\n",
       "      <td>537</td>\n",
       "      <td>0.303538</td>\n",
       "    </tr>\n",
       "    <tr>\n",
       "      <th>1</th>\n",
       "      <td>161</td>\n",
       "      <td>0.552795</td>\n",
       "    </tr>\n",
       "    <tr>\n",
       "      <th>2</th>\n",
       "      <td>102</td>\n",
       "      <td>0.578431</td>\n",
       "    </tr>\n",
       "    <tr>\n",
       "      <th>3</th>\n",
       "      <td>29</td>\n",
       "      <td>0.724138</td>\n",
       "    </tr>\n",
       "    <tr>\n",
       "      <th>4</th>\n",
       "      <td>15</td>\n",
       "      <td>0.200000</td>\n",
       "    </tr>\n",
       "    <tr>\n",
       "      <th>5</th>\n",
       "      <td>22</td>\n",
       "      <td>0.136364</td>\n",
       "    </tr>\n",
       "    <tr>\n",
       "      <th>6</th>\n",
       "      <td>12</td>\n",
       "      <td>0.333333</td>\n",
       "    </tr>\n",
       "    <tr>\n",
       "      <th>7</th>\n",
       "      <td>6</td>\n",
       "      <td>0.000000</td>\n",
       "    </tr>\n",
       "    <tr>\n",
       "      <th>10</th>\n",
       "      <td>7</td>\n",
       "      <td>0.000000</td>\n",
       "    </tr>\n",
       "  </tbody>\n",
       "</table>\n",
       "</div>"
      ],
      "text/plain": [
       "        Survived          \n",
       "           count      mean\n",
       "FamSize                   \n",
       "0            537  0.303538\n",
       "1            161  0.552795\n",
       "2            102  0.578431\n",
       "3             29  0.724138\n",
       "4             15  0.200000\n",
       "5             22  0.136364\n",
       "6             12  0.333333\n",
       "7              6  0.000000\n",
       "10             7  0.000000"
      ]
     },
     "execution_count": 9,
     "metadata": {},
     "output_type": "execute_result"
    }
   ],
   "source": [
    "df_train['FamSize'] = df_train['SibSp'] + df_train['Parch']\n",
    "df_train[['FamSize', 'Survived']].groupby('FamSize').agg(['count','mean'])"
   ]
  },
  {
   "cell_type": "code",
   "execution_count": 10,
   "id": "fb8e2b68",
   "metadata": {
    "execution": {
     "iopub.execute_input": "2022-02-17T08:59:24.420158Z",
     "iopub.status.busy": "2022-02-17T08:59:24.406753Z",
     "iopub.status.idle": "2022-02-17T08:59:24.423995Z",
     "shell.execute_reply": "2022-02-17T08:59:24.423448Z",
     "shell.execute_reply.started": "2022-02-17T08:39:02.047904Z"
    },
    "papermill": {
     "duration": 0.074093,
     "end_time": "2022-02-17T08:59:24.424139",
     "exception": false,
     "start_time": "2022-02-17T08:59:24.350046",
     "status": "completed"
    },
    "tags": []
   },
   "outputs": [
    {
     "data": {
      "text/html": [
       "<div>\n",
       "<style scoped>\n",
       "    .dataframe tbody tr th:only-of-type {\n",
       "        vertical-align: middle;\n",
       "    }\n",
       "\n",
       "    .dataframe tbody tr th {\n",
       "        vertical-align: top;\n",
       "    }\n",
       "\n",
       "    .dataframe thead tr th {\n",
       "        text-align: left;\n",
       "    }\n",
       "\n",
       "    .dataframe thead tr:last-of-type th {\n",
       "        text-align: right;\n",
       "    }\n",
       "</style>\n",
       "<table border=\"1\" class=\"dataframe\">\n",
       "  <thead>\n",
       "    <tr>\n",
       "      <th></th>\n",
       "      <th colspan=\"2\" halign=\"left\">Survived</th>\n",
       "    </tr>\n",
       "    <tr>\n",
       "      <th></th>\n",
       "      <th>count</th>\n",
       "      <th>mean</th>\n",
       "    </tr>\n",
       "    <tr>\n",
       "      <th>FamType</th>\n",
       "      <th></th>\n",
       "      <th></th>\n",
       "    </tr>\n",
       "  </thead>\n",
       "  <tbody>\n",
       "    <tr>\n",
       "      <th>Alone</th>\n",
       "      <td>537</td>\n",
       "      <td>0.303538</td>\n",
       "    </tr>\n",
       "    <tr>\n",
       "      <th>Large_Family</th>\n",
       "      <td>62</td>\n",
       "      <td>0.161290</td>\n",
       "    </tr>\n",
       "    <tr>\n",
       "      <th>Small_Family</th>\n",
       "      <td>292</td>\n",
       "      <td>0.578767</td>\n",
       "    </tr>\n",
       "  </tbody>\n",
       "</table>\n",
       "</div>"
      ],
      "text/plain": [
       "             Survived          \n",
       "                count      mean\n",
       "FamType                        \n",
       "Alone             537  0.303538\n",
       "Large_Family       62  0.161290\n",
       "Small_Family      292  0.578767"
      ]
     },
     "execution_count": 10,
     "metadata": {},
     "output_type": "execute_result"
    }
   ],
   "source": [
    "df_train['FamType'] = np.where(df_train['FamSize'] == 0, \"Alone\", \"Small_Family\")\n",
    "df_train.loc[df_train['FamSize'] > 3, 'FamType'] = \"Large_Family\"\n",
    "\n",
    "df_train[['FamType', 'Survived']].groupby('FamType').agg(['count','mean'])"
   ]
  },
  {
   "cell_type": "code",
   "execution_count": 11,
   "id": "7cb3c18d",
   "metadata": {
    "execution": {
     "iopub.execute_input": "2022-02-17T08:59:24.530491Z",
     "iopub.status.busy": "2022-02-17T08:59:24.529888Z",
     "iopub.status.idle": "2022-02-17T08:59:24.538693Z",
     "shell.execute_reply": "2022-02-17T08:59:24.538138Z",
     "shell.execute_reply.started": "2022-02-17T08:39:02.315500Z"
    },
    "papermill": {
     "duration": 0.063764,
     "end_time": "2022-02-17T08:59:24.538830",
     "exception": false,
     "start_time": "2022-02-17T08:59:24.475066",
     "status": "completed"
    },
    "tags": []
   },
   "outputs": [],
   "source": [
    "# same operations in test data\n",
    "df_test['FamSize'] = df_test['SibSp'] + df_test['Parch']\n",
    "df_test['FamType'] = np.where(df_test['FamSize'] == 0, \"Alone\", \"Small_Family\")\n",
    "df_test.loc[df_test['FamSize'] > 3, 'FamType'] = \"Large_Family\""
   ]
  },
  {
   "cell_type": "markdown",
   "id": "beb607c3",
   "metadata": {
    "papermill": {
     "duration": 0.050512,
     "end_time": "2022-02-17T08:59:24.640490",
     "exception": false,
     "start_time": "2022-02-17T08:59:24.589978",
     "status": "completed"
    },
    "tags": []
   },
   "source": [
    "As a result, I am happy with my new column Family Type and use it in my model."
   ]
  },
  {
   "cell_type": "code",
   "execution_count": 12,
   "id": "da2f0819",
   "metadata": {
    "execution": {
     "iopub.execute_input": "2022-02-17T08:59:24.951218Z",
     "iopub.status.busy": "2022-02-17T08:59:24.950571Z",
     "iopub.status.idle": "2022-02-17T08:59:24.962752Z",
     "shell.execute_reply": "2022-02-17T08:59:24.963333Z",
     "shell.execute_reply.started": "2022-02-17T08:39:03.716714Z"
    },
    "papermill": {
     "duration": 0.067239,
     "end_time": "2022-02-17T08:59:24.963494",
     "exception": false,
     "start_time": "2022-02-17T08:59:24.896255",
     "status": "completed"
    },
    "tags": []
   },
   "outputs": [
    {
     "data": {
      "text/plain": [
       " Mr              517\n",
       " Miss            182\n",
       " Mrs             125\n",
       " Master           40\n",
       " Dr                7\n",
       " Rev               6\n",
       " Mlle              2\n",
       " Major             2\n",
       " Col               2\n",
       " the Countess      1\n",
       " Capt              1\n",
       " Ms                1\n",
       " Sir               1\n",
       " Lady              1\n",
       " Mme               1\n",
       " Don               1\n",
       " Jonkheer          1\n",
       "Name: Title, dtype: int64"
      ]
     },
     "execution_count": 12,
     "metadata": {},
     "output_type": "execute_result"
    }
   ],
   "source": [
    "# extracting the string between \",\" and \".\"\n",
    "df_train[\"Title\"] = df_train[\"Name\"].apply(lambda x :x.split(\",\")[-1]).str.split(\".\",expand=True).loc[:,0]\n",
    "df_train[\"Title\"].value_counts()"
   ]
  },
  {
   "cell_type": "code",
   "execution_count": 13,
   "id": "b1d5371f",
   "metadata": {
    "execution": {
     "iopub.execute_input": "2022-02-17T08:59:25.068692Z",
     "iopub.status.busy": "2022-02-17T08:59:25.068071Z",
     "iopub.status.idle": "2022-02-17T08:59:25.088166Z",
     "shell.execute_reply": "2022-02-17T08:59:25.088763Z",
     "shell.execute_reply.started": "2022-02-17T08:39:04.120485Z"
    },
    "papermill": {
     "duration": 0.074754,
     "end_time": "2022-02-17T08:59:25.088927",
     "exception": false,
     "start_time": "2022-02-17T08:59:25.014173",
     "status": "completed"
    },
    "tags": []
   },
   "outputs": [
    {
     "data": {
      "text/html": [
       "<div>\n",
       "<style scoped>\n",
       "    .dataframe tbody tr th:only-of-type {\n",
       "        vertical-align: middle;\n",
       "    }\n",
       "\n",
       "    .dataframe tbody tr th {\n",
       "        vertical-align: top;\n",
       "    }\n",
       "\n",
       "    .dataframe thead tr th {\n",
       "        text-align: left;\n",
       "    }\n",
       "\n",
       "    .dataframe thead tr:last-of-type th {\n",
       "        text-align: right;\n",
       "    }\n",
       "</style>\n",
       "<table border=\"1\" class=\"dataframe\">\n",
       "  <thead>\n",
       "    <tr>\n",
       "      <th></th>\n",
       "      <th colspan=\"2\" halign=\"left\">Survived</th>\n",
       "    </tr>\n",
       "    <tr>\n",
       "      <th></th>\n",
       "      <th>count</th>\n",
       "      <th>mean</th>\n",
       "    </tr>\n",
       "    <tr>\n",
       "      <th>TitleProcessed</th>\n",
       "      <th></th>\n",
       "      <th></th>\n",
       "    </tr>\n",
       "  </thead>\n",
       "  <tbody>\n",
       "    <tr>\n",
       "      <th>Master</th>\n",
       "      <td>40</td>\n",
       "      <td>0.575000</td>\n",
       "    </tr>\n",
       "    <tr>\n",
       "      <th>Miss</th>\n",
       "      <td>182</td>\n",
       "      <td>0.697802</td>\n",
       "    </tr>\n",
       "    <tr>\n",
       "      <th>Mr</th>\n",
       "      <td>517</td>\n",
       "      <td>0.156673</td>\n",
       "    </tr>\n",
       "    <tr>\n",
       "      <th>Mrs</th>\n",
       "      <td>125</td>\n",
       "      <td>0.792000</td>\n",
       "    </tr>\n",
       "    <tr>\n",
       "      <th>Other</th>\n",
       "      <td>27</td>\n",
       "      <td>0.444444</td>\n",
       "    </tr>\n",
       "  </tbody>\n",
       "</table>\n",
       "</div>"
      ],
      "text/plain": [
       "               Survived          \n",
       "                  count      mean\n",
       "TitleProcessed                   \n",
       " Master              40  0.575000\n",
       " Miss               182  0.697802\n",
       " Mr                 517  0.156673\n",
       " Mrs                125  0.792000\n",
       "Other                27  0.444444"
      ]
     },
     "execution_count": 13,
     "metadata": {},
     "output_type": "execute_result"
    }
   ],
   "source": [
    "\"\n",
    "title_counts = df_train[\"Title\"].value_counts()\n",
    "titles_to_keep = title_counts[title_counts>10]\n",
    "titles_to_replace = list( set(title_counts.index) - set(titles_to_keep.index) )\n",
    "df_train[\"TitleProcessed\"] = df_train[\"Title\"].replace(titles_to_replace, \"Other\")\n",
    "\n",
    "df_train[[\"TitleProcessed\", \"Survived\"]].groupby(\"TitleProcessed\").agg([\"count\",\"mean\"])"
   ]
  },
  {
   "cell_type": "code",
   "execution_count": 14,
   "id": "24ccb95a",
   "metadata": {
    "execution": {
     "iopub.execute_input": "2022-02-17T08:59:25.197160Z",
     "iopub.status.busy": "2022-02-17T08:59:25.196173Z",
     "iopub.status.idle": "2022-02-17T08:59:25.210652Z",
     "shell.execute_reply": "2022-02-17T08:59:25.211122Z",
     "shell.execute_reply.started": "2022-02-17T08:39:04.660174Z"
    },
    "papermill": {
     "duration": 0.070426,
     "end_time": "2022-02-17T08:59:25.211317",
     "exception": false,
     "start_time": "2022-02-17T08:59:25.140891",
     "status": "completed"
    },
    "tags": []
   },
   "outputs": [
    {
     "data": {
      "text/plain": [
       " Mr        240\n",
       " Miss       78\n",
       " Mrs        72\n",
       " Master     21\n",
       "Other        7\n",
       "Name: TitleProcessed, dtype: int64"
      ]
     },
     "execution_count": 14,
     "metadata": {},
     "output_type": "execute_result"
    }
   ],
   "source": [
    "\n",
    "df_test[\"Title\"] = df_test[\"Name\"].apply(lambda x :x.split(\",\")[-1]).str.split(\".\",expand=True).loc[:,0]\n",
    "\n",
    "title_counts_test = df_test[\"Title\"].value_counts() # we will keep same columns with train\n",
    "titles_to_replace_test = list( set(title_counts_test.index) - set(titles_to_keep.index) )\n",
    "df_test[\"TitleProcessed\"] = df_test[\"Title\"].replace(titles_to_replace_test, \"Other\")\n",
    "df_test[\"TitleProcessed\"].value_counts()"
   ]
  },
  {
   "cell_type": "code",
   "execution_count": 15,
   "id": "bb3d87f7",
   "metadata": {
    "execution": {
     "iopub.execute_input": "2022-02-17T08:59:25.528394Z",
     "iopub.status.busy": "2022-02-17T08:59:25.527470Z",
     "iopub.status.idle": "2022-02-17T08:59:26.139447Z",
     "shell.execute_reply": "2022-02-17T08:59:26.139989Z",
     "shell.execute_reply.started": "2022-02-17T08:39:06.041463Z"
    },
    "papermill": {
     "duration": 0.668281,
     "end_time": "2022-02-17T08:59:26.140188",
     "exception": false,
     "start_time": "2022-02-17T08:59:25.471907",
     "status": "completed"
    },
    "tags": []
   },
   "outputs": [
    {
     "data": {
      "text/plain": [
       "<AxesSubplot:xlabel='TitleProcessed', ylabel='Age'>"
      ]
     },
     "execution_count": 15,
     "metadata": {},
     "output_type": "execute_result"
    },
    {
     "data": {
      "image/png": "[encoded data removed]",
      "text/plain": [
       "<Figure size 864x504 with 2 Axes>"
      ]
     },
     "metadata": {
      "needs_background": "light"
     },
     "output_type": "display_data"
    }
   ],
   "source": [
    "fig, axes = plt.subplots(2, 1, figsize=(12, 7))\n",
    "fig.suptitle('Distribution of Age - Before Filling Missing Values')\n",
    "sns.kdeplot(ax=axes[0], data=df_train, x=\"Age\", hue=\"Survived\", shade=True)\n",
    "sns.barplot(ax=axes[1], data=df_train, x=\"TitleProcessed\", y=\"Age\")"
   ]
  },
  {
   "cell_type": "code",
   "execution_count": 16,
   "id": "465d0143",
   "metadata": {
    "execution": {
     "iopub.execute_input": "2022-02-17T08:59:26.253896Z",
     "iopub.status.busy": "2022-02-17T08:59:26.252902Z",
     "iopub.status.idle": "2022-02-17T08:59:26.258449Z",
     "shell.execute_reply": "2022-02-17T08:59:26.258907Z",
     "shell.execute_reply.started": "2022-02-17T08:39:06.617130Z"
    },
    "papermill": {
     "duration": 0.065009,
     "end_time": "2022-02-17T08:59:26.259084",
     "exception": false,
     "start_time": "2022-02-17T08:59:26.194075",
     "status": "completed"
    },
    "tags": []
   },
   "outputs": [
    {
     "data": {
      "text/plain": [
       "{' Master': 4.57, ' Miss': 21.77, ' Mr': 32.37, ' Mrs': 35.9, 'Other': 42.38}"
      ]
     },
     "execution_count": 16,
     "metadata": {},
     "output_type": "execute_result"
    }
   ],
   "source": [
    "# Creating a dictionary for the average age value of each Title\n",
    "titles_avg_age = df_train.groupby('TitleProcessed')['Age'].mean().round(2).to_dict()\n",
    "titles_avg_age"
   ]
  },
  {
   "cell_type": "code",
   "execution_count": 17,
   "id": "82f2dc4a",
   "metadata": {
    "execution": {
     "iopub.execute_input": "2022-02-17T08:59:26.371418Z",
     "iopub.status.busy": "2022-02-17T08:59:26.370789Z",
     "iopub.status.idle": "2022-02-17T08:59:26.377210Z",
     "shell.execute_reply": "2022-02-17T08:59:26.377698Z",
     "shell.execute_reply.started": "2022-02-17T08:39:07.451316Z"
    },
    "papermill": {
     "duration": 0.064321,
     "end_time": "2022-02-17T08:59:26.377874",
     "exception": false,
     "start_time": "2022-02-17T08:59:26.313553",
     "status": "completed"
    },
    "tags": []
   },
   "outputs": [],
   "source": [
    "# Filling missing values\n",
    "df_train['Age'].fillna(df_train['TitleProcessed'].map(titles_avg_age), inplace=True)\n",
    "df_test['Age'].fillna(df_test['TitleProcessed'].map(titles_avg_age), inplace=True)"
   ]
  },
  {
   "cell_type": "code",
   "execution_count": 18,
   "id": "82dcbc13",
   "metadata": {
    "execution": {
     "iopub.execute_input": "2022-02-17T08:59:26.492078Z",
     "iopub.status.busy": "2022-02-17T08:59:26.488951Z",
     "iopub.status.idle": "2022-02-17T08:59:26.743594Z",
     "shell.execute_reply": "2022-02-17T08:59:26.744111Z",
     "shell.execute_reply.started": "2022-02-17T08:39:09.266963Z"
    },
    "papermill": {
     "duration": 0.312168,
     "end_time": "2022-02-17T08:59:26.744276",
     "exception": false,
     "start_time": "2022-02-17T08:59:26.432108",
     "status": "completed"
    },
    "tags": []
   },
   "outputs": [
    {
     "data": {
      "text/plain": [
       "<AxesSubplot:xlabel='Age', ylabel='Density'>"
      ]
     },
     "execution_count": 18,
     "metadata": {},
     "output_type": "execute_result"
    },
    {
     "data": {
      "image/png": "[encoded data removed]",
      "text/plain": [
       "<Figure size 864x288 with 1 Axes>"
      ]
     },
     "metadata": {
      "needs_background": "light"
     },
     "output_type": "display_data"
    }
   ],
   "source": [
    "fig, axes = plt.subplots(1, 1, figsize=(12, 4))\n",
    "fig.suptitle('Distribution of Age - After Filling Missing Values')\n",
    "sns.kdeplot(data=df_train, x=\"Age\", hue=\"Survived\", shade=True)"
   ]
  },
  {
   "cell_type": "code",
   "execution_count": 19,
   "id": "74fc6d09",
   "metadata": {
    "execution": {
     "iopub.execute_input": "2022-02-17T08:59:26.973358Z",
     "iopub.status.busy": "2022-02-17T08:59:26.972382Z",
     "iopub.status.idle": "2022-02-17T08:59:26.987033Z",
     "shell.execute_reply": "2022-02-17T08:59:26.987640Z",
     "shell.execute_reply.started": "2022-02-17T08:39:11.901209Z"
    },
    "papermill": {
     "duration": 0.075512,
     "end_time": "2022-02-17T08:59:26.987809",
     "exception": false,
     "start_time": "2022-02-17T08:59:26.912297",
     "status": "completed"
    },
    "tags": []
   },
   "outputs": [
    {
     "data": {
      "text/html": [
       "<div>\n",
       "<style scoped>\n",
       "    .dataframe tbody tr th:only-of-type {\n",
       "        vertical-align: middle;\n",
       "    }\n",
       "\n",
       "    .dataframe tbody tr th {\n",
       "        vertical-align: top;\n",
       "    }\n",
       "\n",
       "    .dataframe thead tr th {\n",
       "        text-align: left;\n",
       "    }\n",
       "\n",
       "    .dataframe thead tr:last-of-type th {\n",
       "        text-align: right;\n",
       "    }\n",
       "</style>\n",
       "<table border=\"1\" class=\"dataframe\">\n",
       "  <thead>\n",
       "    <tr>\n",
       "      <th></th>\n",
       "      <th colspan=\"2\" halign=\"left\">Survived</th>\n",
       "    </tr>\n",
       "    <tr>\n",
       "      <th></th>\n",
       "      <th>count</th>\n",
       "      <th>mean</th>\n",
       "    </tr>\n",
       "    <tr>\n",
       "      <th>Embarked</th>\n",
       "      <th></th>\n",
       "      <th></th>\n",
       "    </tr>\n",
       "  </thead>\n",
       "  <tbody>\n",
       "    <tr>\n",
       "      <th>C</th>\n",
       "      <td>168</td>\n",
       "      <td>0.553571</td>\n",
       "    </tr>\n",
       "    <tr>\n",
       "      <th>Q</th>\n",
       "      <td>77</td>\n",
       "      <td>0.389610</td>\n",
       "    </tr>\n",
       "    <tr>\n",
       "      <th>S</th>\n",
       "      <td>644</td>\n",
       "      <td>0.336957</td>\n",
       "    </tr>\n",
       "  </tbody>\n",
       "</table>\n",
       "</div>"
      ],
      "text/plain": [
       "         Survived          \n",
       "            count      mean\n",
       "Embarked                   \n",
       "C             168  0.553571\n",
       "Q              77  0.389610\n",
       "S             644  0.336957"
      ]
     },
     "execution_count": 19,
     "metadata": {},
     "output_type": "execute_result"
    }
   ],
   "source": [
    "df_train[[\"Embarked\", \"Survived\"]].groupby([\"Embarked\"]).agg(['count','mean'])"
   ]
  },
  {
   "cell_type": "code",
   "execution_count": 20,
   "id": "0d0af79f",
   "metadata": {
    "execution": {
     "iopub.execute_input": "2022-02-17T08:59:27.127031Z",
     "iopub.status.busy": "2022-02-17T08:59:27.107507Z",
     "iopub.status.idle": "2022-02-17T08:59:27.396713Z",
     "shell.execute_reply": "2022-02-17T08:59:27.396133Z",
     "shell.execute_reply.started": "2022-02-17T08:39:12.309290Z"
    },
    "papermill": {
     "duration": 0.352578,
     "end_time": "2022-02-17T08:59:27.396860",
     "exception": false,
     "start_time": "2022-02-17T08:59:27.044282",
     "status": "completed"
    },
    "tags": []
   },
   "outputs": [
    {
     "data": {
      "text/plain": [
       "<seaborn.axisgrid.FacetGrid at 0x7f272a481fd0>"
      ]
     },
     "execution_count": 20,
     "metadata": {},
     "output_type": "execute_result"
    },
    {
     "data": {
      "image/png": "[encoded data removed]",
      "text/plain": [
       "<Figure size 360x360 with 1 Axes>"
      ]
     },
     "metadata": {
      "needs_background": "light"
     },
     "output_type": "display_data"
    }
   ],
   "source": [
    "sns.catplot(x=\"Embarked\", y=\"Survived\", data=df_train, kind = \"bar\")"
   ]
  },
  {
   "cell_type": "code",
   "execution_count": 21,
   "id": "25dce995",
   "metadata": {
    "execution": {
     "iopub.execute_input": "2022-02-17T08:59:27.513643Z",
     "iopub.status.busy": "2022-02-17T08:59:27.513026Z",
     "iopub.status.idle": "2022-02-17T08:59:27.518109Z",
     "shell.execute_reply": "2022-02-17T08:59:27.517460Z",
     "shell.execute_reply.started": "2022-02-17T08:39:12.881745Z"
    },
    "papermill": {
     "duration": 0.064538,
     "end_time": "2022-02-17T08:59:27.518238",
     "exception": false,
     "start_time": "2022-02-17T08:59:27.453700",
     "status": "completed"
    },
    "tags": []
   },
   "outputs": [],
   "source": [
    "\n",
    "df_train[\"Embarked\"].fillna(\"S\", inplace=True)"
   ]
  },
  {
   "cell_type": "code",
   "execution_count": 22,
   "id": "83f8a635",
   "metadata": {
    "execution": {
     "iopub.execute_input": "2022-02-17T08:59:27.748674Z",
     "iopub.status.busy": "2022-02-17T08:59:27.747998Z",
     "iopub.status.idle": "2022-02-17T08:59:27.755063Z",
     "shell.execute_reply": "2022-02-17T08:59:27.754544Z",
     "shell.execute_reply.started": "2022-02-17T08:39:17.317338Z"
    },
    "papermill": {
     "duration": 0.068242,
     "end_time": "2022-02-17T08:59:27.755213",
     "exception": false,
     "start_time": "2022-02-17T08:59:27.686971",
     "status": "completed"
    },
    "tags": []
   },
   "outputs": [
    {
     "data": {
      "text/plain": [
       "count    891.000000\n",
       "mean      32.204208\n",
       "std       49.693429\n",
       "min        0.000000\n",
       "25%        7.910400\n",
       "50%       14.454200\n",
       "75%       31.000000\n",
       "max      512.329200\n",
       "Name: Fare, dtype: float64"
      ]
     },
     "execution_count": 22,
     "metadata": {},
     "output_type": "execute_result"
    }
   ],
   "source": [
    "df_train[\"Fare\"].describe()"
   ]
  },
  {
   "cell_type": "code",
   "execution_count": 23,
   "id": "1dd9fc4c",
   "metadata": {
    "execution": {
     "iopub.execute_input": "2022-02-17T08:59:27.920088Z",
     "iopub.status.busy": "2022-02-17T08:59:27.900953Z",
     "iopub.status.idle": "2022-02-17T08:59:28.566926Z",
     "shell.execute_reply": "2022-02-17T08:59:28.566270Z",
     "shell.execute_reply.started": "2022-02-17T08:39:18.294273Z"
    },
    "papermill": {
     "duration": 0.754805,
     "end_time": "2022-02-17T08:59:28.567062",
     "exception": false,
     "start_time": "2022-02-17T08:59:27.812257",
     "status": "completed"
    },
    "tags": []
   },
   "outputs": [
    {
     "data": {
      "text/plain": [
       "<AxesSubplot:xlabel='Pclass', ylabel='Fare'>"
      ]
     },
     "execution_count": 23,
     "metadata": {},
     "output_type": "execute_result"
    },
    {
     "data": {
      "image/png": "[encoded data removed]",
      "text/plain": [
       "<Figure size 1080x288 with 3 Axes>"
      ]
     },
     "metadata": {
      "needs_background": "light"
     },
     "output_type": "display_data"
    }
   ],
   "source": [
    "fig, axes = plt.subplots(1, 3, figsize=(15, 4))\n",
    "sns.kdeplot(ax=axes[0], data=df_train, x=\"Fare\", hue=\"Survived\")\n",
    "sns.violinplot(ax=axes[1], data=df_train, x=\"Survived\", y=\"Fare\")\n",
    "sns.violinplot(ax=axes[2], data=df_train, x=\"Pclass\", y=\"Fare\", hue=\"Survived\")"
   ]
  },
  {
   "cell_type": "code",
   "execution_count": 24,
   "id": "25a2d517",
   "metadata": {
    "execution": {
     "iopub.execute_input": "2022-02-17T08:59:28.959347Z",
     "iopub.status.busy": "2022-02-17T08:59:28.946956Z",
     "iopub.status.idle": "2022-02-17T08:59:29.568201Z",
     "shell.execute_reply": "2022-02-17T08:59:29.568780Z",
     "shell.execute_reply.started": "2022-02-17T08:39:51.804359Z"
    },
    "papermill": {
     "duration": 0.824575,
     "end_time": "2022-02-17T08:59:29.568955",
     "exception": false,
     "start_time": "2022-02-17T08:59:28.744380",
     "status": "completed"
    },
    "tags": []
   },
   "outputs": [
    {
     "data": {
      "text/plain": [
       "<AxesSubplot:xlabel='Pclass', ylabel='FareLog'>"
      ]
     },
     "execution_count": 24,
     "metadata": {},
     "output_type": "execute_result"
    },
    {
     "data": {
      "image/png": "[encoded data removed]",
      "text/plain": [
       "<Figure size 1080x288 with 3 Axes>"
      ]
     },
     "metadata": {
      "needs_background": "light"
     },
     "output_type": "display_data"
    }
   ],
   "source": [
    "df_train[\"FareLog\"] = np.log( df_train[\"Fare\"] + df_train[\"Fare\"].median() )\n",
    "\n",
    "fig, axes = plt.subplots(1, 3, figsize=(15, 4))\n",
    "sns.kdeplot(ax=axes[0], data=df_train, x=\"FareLog\", hue=\"Survived\")\n",
    "sns.violinplot(ax=axes[1], data=df_train, x=\"Survived\", y=\"FareLog\")\n",
    "sns.violinplot(ax=axes[2], data=df_train, x=\"Pclass\", y=\"FareLog\", hue=\"Survived\")"
   ]
  },
  {
   "cell_type": "code",
   "execution_count": 25,
   "id": "dc38ea68",
   "metadata": {
    "execution": {
     "iopub.execute_input": "2022-02-17T08:59:29.820575Z",
     "iopub.status.busy": "2022-02-17T08:59:29.819870Z",
     "iopub.status.idle": "2022-02-17T08:59:29.823046Z",
     "shell.execute_reply": "2022-02-17T08:59:29.823516Z",
     "shell.execute_reply.started": "2022-02-17T08:39:58.084068Z"
    },
    "papermill": {
     "duration": 0.072127,
     "end_time": "2022-02-17T08:59:29.823775",
     "exception": false,
     "start_time": "2022-02-17T08:59:29.751648",
     "status": "completed"
    },
    "tags": []
   },
   "outputs": [],
   "source": [
    "# in the test data, we have 1 missing Fare. I will basicly fill it with median\n",
    "# after that, apply the same log operation\n",
    "df_test[\"Fare\"].fillna(df_test[\"Fare\"].median(), inplace=True)\n",
    "df_test[\"FareLog\"] = np.log( df_test[\"Fare\"] + df_test[\"Fare\"].median() )"
   ]
  },
  {
   "cell_type": "code",
   "execution_count": 26,
   "id": "cdc71eef",
   "metadata": {
    "execution": {
     "iopub.execute_input": "2022-02-17T08:59:30.080456Z",
     "iopub.status.busy": "2022-02-17T08:59:30.074130Z",
     "iopub.status.idle": "2022-02-17T08:59:30.086504Z",
     "shell.execute_reply": "2022-02-17T08:59:30.085845Z",
     "shell.execute_reply.started": "2022-02-17T08:40:01.046268Z"
    },
    "papermill": {
     "duration": 0.076898,
     "end_time": "2022-02-17T08:59:30.086669",
     "exception": false,
     "start_time": "2022-02-17T08:59:30.009771",
     "status": "completed"
    },
    "tags": []
   },
   "outputs": [
    {
     "name": "stdout",
     "output_type": "stream",
     "text": [
      "Random 10 Tickets:\n",
      "709                2661\n",
      "439          C.A. 18723\n",
      "840    SOTON/O2 3101287\n",
      "720              248727\n",
      "39                 2651\n",
      "290               19877\n",
      "300                9234\n",
      "333              345764\n",
      "208              367231\n",
      "136               11752\n",
      "Name: Ticket, dtype: object\n",
      "\n",
      "Checking max repetition:\n",
      "347082      7\n",
      "CA. 2343    7\n",
      "1601        7\n",
      "3101295     6\n",
      "CA 2144     6\n",
      "Name: Ticket, dtype: int64\n",
      "\n",
      "# of unique tickets: 681\n"
     ]
    }
   ],
   "source": [
    "print(\"Random 10 Tickets:\")\n",
    "print( df_train[\"Ticket\"].sample(10, random_state=42) )\n",
    "print()\n",
    "\n",
    "print(\"Checking max repetition:\")\n",
    "ticket_counts = df_train[\"Ticket\"].value_counts()\n",
    "print(ticket_counts.head())\n",
    "print()\n",
    "\n",
    "print(\"# of unique tickets: {}\".format(df_train[\"Ticket\"].nunique()))"
   ]
  },
  {
   "cell_type": "code",
   "execution_count": 27,
   "id": "095ec001",
   "metadata": {
    "execution": {
     "iopub.execute_input": "2022-02-17T08:59:30.222234Z",
     "iopub.status.busy": "2022-02-17T08:59:30.221288Z",
     "iopub.status.idle": "2022-02-17T08:59:30.225041Z",
     "shell.execute_reply": "2022-02-17T08:59:30.225763Z",
     "shell.execute_reply.started": "2022-02-17T08:40:02.534085Z"
    },
    "papermill": {
     "duration": 0.076768,
     "end_time": "2022-02-17T08:59:30.225987",
     "exception": false,
     "start_time": "2022-02-17T08:59:30.149219",
     "status": "completed"
    },
    "tags": []
   },
   "outputs": [
    {
     "name": "stdout",
     "output_type": "stream",
     "text": [
      "Random 10 Cabins:\n",
      "709    NaN\n",
      "439    NaN\n",
      "840    NaN\n",
      "720    NaN\n",
      "39     NaN\n",
      "290    NaN\n",
      "300    NaN\n",
      "333    NaN\n",
      "208    NaN\n",
      "136    D47\n",
      "Name: Cabin, dtype: object\n",
      "\n",
      "Checking max repetition:\n",
      "B96 B98        4\n",
      "G6             4\n",
      "C23 C25 C27    4\n",
      "C22 C26        3\n",
      "F33            3\n",
      "Name: Cabin, dtype: int64\n",
      "\n",
      "# of unique cabins: 147\n",
      "# of missing values: 687\n"
     ]
    }
   ],
   "source": [
    "print(\"Random 10 Cabins:\")\n",
    "print( df_train[\"Cabin\"].sample(10, random_state=42) )\n",
    "print()\n",
    "\n",
    "print(\"Checking max repetition:\")\n",
    "cabin_counts = df_train[\"Cabin\"].value_counts()\n",
    "print(cabin_counts.head())\n",
    "print()\n",
    "\n",
    "print(\"# of unique cabins: {}\".format(df_train[\"Cabin\"].nunique()))\n",
    "print(\"# of missing values: {}\".format(df_train[\"Cabin\"].isnull().sum()))"
   ]
  },
  {
   "cell_type": "markdown",
   "id": "1c1833b6",
   "metadata": {
    "papermill": {
     "duration": 0.061525,
     "end_time": "2022-02-17T08:59:30.474872",
     "exception": false,
     "start_time": "2022-02-17T08:59:30.413347",
     "status": "completed"
    },
    "tags": []
   },
   "source": [
    "# 2. Preprocess Data"
   ]
  },
  {
   "cell_type": "code",
   "execution_count": 28,
   "id": "4f1158ce",
   "metadata": {
    "execution": {
     "iopub.execute_input": "2022-02-17T08:59:30.613171Z",
     "iopub.status.busy": "2022-02-17T08:59:30.601515Z",
     "iopub.status.idle": "2022-02-17T08:59:30.625484Z",
     "shell.execute_reply": "2022-02-17T08:59:30.625945Z",
     "shell.execute_reply.started": "2022-02-17T08:40:05.127296Z"
    },
    "papermill": {
     "duration": 0.088908,
     "end_time": "2022-02-17T08:59:30.626116",
     "exception": false,
     "start_time": "2022-02-17T08:59:30.537208",
     "status": "completed"
    },
    "tags": []
   },
   "outputs": [
    {
     "data": {
      "text/html": [
       "<div>\n",
       "<style scoped>\n",
       "    .dataframe tbody tr th:only-of-type {\n",
       "        vertical-align: middle;\n",
       "    }\n",
       "\n",
       "    .dataframe tbody tr th {\n",
       "        vertical-align: top;\n",
       "    }\n",
       "\n",
       "    .dataframe thead th {\n",
       "        text-align: right;\n",
       "    }\n",
       "</style>\n",
       "<table border=\"1\" class=\"dataframe\">\n",
       "  <thead>\n",
       "    <tr style=\"text-align: right;\">\n",
       "      <th></th>\n",
       "      <th>Pclass</th>\n",
       "      <th>Age</th>\n",
       "      <th>FareLog</th>\n",
       "      <th>TitleProcessed_ Master</th>\n",
       "      <th>TitleProcessed_ Miss</th>\n",
       "      <th>TitleProcessed_ Mr</th>\n",
       "      <th>TitleProcessed_ Mrs</th>\n",
       "      <th>Sex_male</th>\n",
       "      <th>FamType_Alone</th>\n",
       "      <th>FamType_Small_Family</th>\n",
       "      <th>Embarked_C</th>\n",
       "      <th>Embarked_S</th>\n",
       "    </tr>\n",
       "  </thead>\n",
       "  <tbody>\n",
       "    <tr>\n",
       "      <th>0</th>\n",
       "      <td>3</td>\n",
       "      <td>22.0</td>\n",
       "      <td>3.077506</td>\n",
       "      <td>0</td>\n",
       "      <td>0</td>\n",
       "      <td>1</td>\n",
       "      <td>0</td>\n",
       "      <td>1</td>\n",
       "      <td>0</td>\n",
       "      <td>1</td>\n",
       "      <td>0</td>\n",
       "      <td>1</td>\n",
       "    </tr>\n",
       "    <tr>\n",
       "      <th>1</th>\n",
       "      <td>1</td>\n",
       "      <td>38.0</td>\n",
       "      <td>4.451290</td>\n",
       "      <td>0</td>\n",
       "      <td>0</td>\n",
       "      <td>0</td>\n",
       "      <td>1</td>\n",
       "      <td>0</td>\n",
       "      <td>0</td>\n",
       "      <td>1</td>\n",
       "      <td>1</td>\n",
       "      <td>0</td>\n",
       "    </tr>\n",
       "    <tr>\n",
       "      <th>2</th>\n",
       "      <td>3</td>\n",
       "      <td>26.0</td>\n",
       "      <td>3.108132</td>\n",
       "      <td>0</td>\n",
       "      <td>1</td>\n",
       "      <td>0</td>\n",
       "      <td>0</td>\n",
       "      <td>0</td>\n",
       "      <td>1</td>\n",
       "      <td>0</td>\n",
       "      <td>0</td>\n",
       "      <td>1</td>\n",
       "    </tr>\n",
       "    <tr>\n",
       "      <th>3</th>\n",
       "      <td>1</td>\n",
       "      <td>35.0</td>\n",
       "      <td>4.212930</td>\n",
       "      <td>0</td>\n",
       "      <td>0</td>\n",
       "      <td>0</td>\n",
       "      <td>1</td>\n",
       "      <td>0</td>\n",
       "      <td>0</td>\n",
       "      <td>1</td>\n",
       "      <td>0</td>\n",
       "      <td>1</td>\n",
       "    </tr>\n",
       "    <tr>\n",
       "      <th>4</th>\n",
       "      <td>3</td>\n",
       "      <td>35.0</td>\n",
       "      <td>3.113702</td>\n",
       "      <td>0</td>\n",
       "      <td>0</td>\n",
       "      <td>1</td>\n",
       "      <td>0</td>\n",
       "      <td>1</td>\n",
       "      <td>1</td>\n",
       "      <td>0</td>\n",
       "      <td>0</td>\n",
       "      <td>1</td>\n",
       "    </tr>\n",
       "  </tbody>\n",
       "</table>\n",
       "</div>"
      ],
      "text/plain": [
       "   Pclass   Age   FareLog  TitleProcessed_ Master  TitleProcessed_ Miss  \\\n",
       "0       3  22.0  3.077506                       0                     0   \n",
       "1       1  38.0  4.451290                       0                     0   \n",
       "2       3  26.0  3.108132                       0                     1   \n",
       "3       1  35.0  4.212930                       0                     0   \n",
       "4       3  35.0  3.113702                       0                     0   \n",
       "\n",
       "   TitleProcessed_ Mr  TitleProcessed_ Mrs  Sex_male  FamType_Alone  \\\n",
       "0                   1                    0         1              0   \n",
       "1                   0                    1         0              0   \n",
       "2                   0                    0         0              1   \n",
       "3                   0                    1         0              0   \n",
       "4                   1                    0         1              1   \n",
       "\n",
       "   FamType_Small_Family  Embarked_C  Embarked_S  \n",
       "0                     1           0           1  \n",
       "1                     1           1           0  \n",
       "2                     0           0           1  \n",
       "3                     1           0           1  \n",
       "4                     0           0           1  "
      ]
     },
     "execution_count": 28,
     "metadata": {},
     "output_type": "execute_result"
    }
   ],
   "source": [
    "\n",
    "\n",
    "X_train = df_train[[\"Pclass\",\"TitleProcessed\",\"Sex\",\"Age\",\"FamType\",\"FareLog\",\"Embarked\"]]\n",
    "X_train = pd.get_dummies(X_train)\n",
    "X_train = X_train.drop([\"TitleProcessed_Other\",\"Sex_female\",\"FamType_Large_Family\",\"Embarked_Q\"], axis=1)\n",
    "X_train.head()"
   ]
  },
  {
   "cell_type": "code",
   "execution_count": 29,
   "id": "ae1d2fb9",
   "metadata": {
    "execution": {
     "iopub.execute_input": "2022-02-17T08:59:30.772160Z",
     "iopub.status.busy": "2022-02-17T08:59:30.752427Z",
     "iopub.status.idle": "2022-02-17T08:59:30.775093Z",
     "shell.execute_reply": "2022-02-17T08:59:30.774454Z",
     "shell.execute_reply.started": "2022-02-17T08:40:07.003275Z"
    },
    "papermill": {
     "duration": 0.08691,
     "end_time": "2022-02-17T08:59:30.775232",
     "exception": false,
     "start_time": "2022-02-17T08:59:30.688322",
     "status": "completed"
    },
    "tags": []
   },
   "outputs": [
    {
     "data": {
      "text/html": [
       "<div>\n",
       "<style scoped>\n",
       "    .dataframe tbody tr th:only-of-type {\n",
       "        vertical-align: middle;\n",
       "    }\n",
       "\n",
       "    .dataframe tbody tr th {\n",
       "        vertical-align: top;\n",
       "    }\n",
       "\n",
       "    .dataframe thead th {\n",
       "        text-align: right;\n",
       "    }\n",
       "</style>\n",
       "<table border=\"1\" class=\"dataframe\">\n",
       "  <thead>\n",
       "    <tr style=\"text-align: right;\">\n",
       "      <th></th>\n",
       "      <th>Pclass</th>\n",
       "      <th>Age</th>\n",
       "      <th>FareLog</th>\n",
       "      <th>TitleProcessed_ Master</th>\n",
       "      <th>TitleProcessed_ Miss</th>\n",
       "      <th>TitleProcessed_ Mr</th>\n",
       "      <th>TitleProcessed_ Mrs</th>\n",
       "      <th>Sex_male</th>\n",
       "      <th>FamType_Alone</th>\n",
       "      <th>FamType_Small_Family</th>\n",
       "      <th>Embarked_C</th>\n",
       "      <th>Embarked_S</th>\n",
       "    </tr>\n",
       "  </thead>\n",
       "  <tbody>\n",
       "    <tr>\n",
       "      <th>0</th>\n",
       "      <td>3</td>\n",
       "      <td>34.5</td>\n",
       "      <td>3.103842</td>\n",
       "      <td>0</td>\n",
       "      <td>0</td>\n",
       "      <td>1</td>\n",
       "      <td>0</td>\n",
       "      <td>1</td>\n",
       "      <td>1</td>\n",
       "      <td>0</td>\n",
       "      <td>0</td>\n",
       "      <td>0</td>\n",
       "    </tr>\n",
       "    <tr>\n",
       "      <th>1</th>\n",
       "      <td>3</td>\n",
       "      <td>47.0</td>\n",
       "      <td>3.065920</td>\n",
       "      <td>0</td>\n",
       "      <td>0</td>\n",
       "      <td>0</td>\n",
       "      <td>1</td>\n",
       "      <td>0</td>\n",
       "      <td>0</td>\n",
       "      <td>1</td>\n",
       "      <td>0</td>\n",
       "      <td>1</td>\n",
       "    </tr>\n",
       "    <tr>\n",
       "      <th>2</th>\n",
       "      <td>2</td>\n",
       "      <td>62.0</td>\n",
       "      <td>3.183941</td>\n",
       "      <td>0</td>\n",
       "      <td>0</td>\n",
       "      <td>1</td>\n",
       "      <td>0</td>\n",
       "      <td>1</td>\n",
       "      <td>1</td>\n",
       "      <td>0</td>\n",
       "      <td>0</td>\n",
       "      <td>0</td>\n",
       "    </tr>\n",
       "    <tr>\n",
       "      <th>3</th>\n",
       "      <td>3</td>\n",
       "      <td>27.0</td>\n",
       "      <td>3.140555</td>\n",
       "      <td>0</td>\n",
       "      <td>0</td>\n",
       "      <td>1</td>\n",
       "      <td>0</td>\n",
       "      <td>1</td>\n",
       "      <td>1</td>\n",
       "      <td>0</td>\n",
       "      <td>0</td>\n",
       "      <td>1</td>\n",
       "    </tr>\n",
       "    <tr>\n",
       "      <th>4</th>\n",
       "      <td>3</td>\n",
       "      <td>22.0</td>\n",
       "      <td>3.286224</td>\n",
       "      <td>0</td>\n",
       "      <td>0</td>\n",
       "      <td>0</td>\n",
       "      <td>1</td>\n",
       "      <td>0</td>\n",
       "      <td>0</td>\n",
       "      <td>1</td>\n",
       "      <td>0</td>\n",
       "      <td>1</td>\n",
       "    </tr>\n",
       "  </tbody>\n",
       "</table>\n",
       "</div>"
      ],
      "text/plain": [
       "   Pclass   Age   FareLog  TitleProcessed_ Master  TitleProcessed_ Miss  \\\n",
       "0       3  34.5  3.103842                       0                     0   \n",
       "1       3  47.0  3.065920                       0                     0   \n",
       "2       2  62.0  3.183941                       0                     0   \n",
       "3       3  27.0  3.140555                       0                     0   \n",
       "4       3  22.0  3.286224                       0                     0   \n",
       "\n",
       "   TitleProcessed_ Mr  TitleProcessed_ Mrs  Sex_male  FamType_Alone  \\\n",
       "0                   1                    0         1              1   \n",
       "1                   0                    1         0              0   \n",
       "2                   1                    0         1              1   \n",
       "3                   1                    0         1              1   \n",
       "4                   0                    1         0              0   \n",
       "\n",
       "   FamType_Small_Family  Embarked_C  Embarked_S  \n",
       "0                     0           0           0  \n",
       "1                     1           0           1  \n",
       "2                     0           0           0  \n",
       "3                     0           0           1  \n",
       "4                     1           0           1  "
      ]
     },
     "execution_count": 29,
     "metadata": {},
     "output_type": "execute_result"
    }
   ],
   "source": [
    "# Same operation to test data\n",
    "X_test = df_test[[\"Pclass\",\"TitleProcessed\",\"Sex\",\"Age\",\"FamType\",\"FareLog\",\"Embarked\"]]\n",
    "X_test = pd.get_dummies(X_test)\n",
    "X_test = X_test.drop([\"TitleProcessed_Other\",\"Sex_female\",\"FamType_Large_Family\",\"Embarked_Q\"], axis=1)\n",
    "X_test.head()"
   ]
  },
  {
   "cell_type": "code",
   "execution_count": 30,
   "id": "ad4044a6",
   "metadata": {
    "execution": {
     "iopub.execute_input": "2022-02-17T08:59:30.907302Z",
     "iopub.status.busy": "2022-02-17T08:59:30.906678Z",
     "iopub.status.idle": "2022-02-17T08:59:30.909597Z",
     "shell.execute_reply": "2022-02-17T08:59:30.909042Z",
     "shell.execute_reply.started": "2022-02-17T08:40:07.567090Z"
    },
    "papermill": {
     "duration": 0.0715,
     "end_time": "2022-02-17T08:59:30.909742",
     "exception": false,
     "start_time": "2022-02-17T08:59:30.838242",
     "status": "completed"
    },
    "tags": []
   },
   "outputs": [
    {
     "data": {
      "text/plain": [
       "0    0\n",
       "1    1\n",
       "2    1\n",
       "3    1\n",
       "4    0\n",
       "Name: Survived, dtype: int64"
      ]
     },
     "execution_count": 30,
     "metadata": {},
     "output_type": "execute_result"
    }
   ],
   "source": [
    "y_train = df_train[\"Survived\"]\n",
    "y_train.head()"
   ]
  },
  {
   "cell_type": "code",
   "execution_count": 31,
   "id": "a938cc2c",
   "metadata": {
    "execution": {
     "iopub.execute_input": "2022-02-17T08:59:31.043463Z",
     "iopub.status.busy": "2022-02-17T08:59:31.042798Z",
     "iopub.status.idle": "2022-02-17T08:59:31.049940Z",
     "shell.execute_reply": "2022-02-17T08:59:31.049317Z",
     "shell.execute_reply.started": "2022-02-17T08:40:08.074604Z"
    },
    "papermill": {
     "duration": 0.07718,
     "end_time": "2022-02-17T08:59:31.050078",
     "exception": false,
     "start_time": "2022-02-17T08:59:30.972898",
     "status": "completed"
    },
    "tags": []
   },
   "outputs": [],
   "source": [
    "# Feature Scaling\n",
    "from sklearn.preprocessing import StandardScaler\n",
    "sc = StandardScaler()\n",
    "X_train_scaled = sc.fit_transform(X_train)\n",
    "X_test_scaled = sc.transform(X_test)"
   ]
  },
  {
   "cell_type": "markdown",
   "id": "caf143f2",
   "metadata": {
    "papermill": {
     "duration": 0.063205,
     "end_time": "2022-02-17T08:59:31.177132",
     "exception": false,
     "start_time": "2022-02-17T08:59:31.113927",
     "status": "completed"
    },
    "tags": []
   },
   "source": [
    "# 3. Model Selection"
   ]
  },
  {
   "cell_type": "code",
   "execution_count": 32,
   "id": "15f63e82",
   "metadata": {
    "execution": {
     "iopub.execute_input": "2022-02-17T08:59:31.442010Z",
     "iopub.status.busy": "2022-02-17T08:59:31.441333Z",
     "iopub.status.idle": "2022-02-17T08:59:31.446295Z",
     "shell.execute_reply": "2022-02-17T08:59:31.445671Z",
     "shell.execute_reply.started": "2022-02-17T08:40:17.570685Z"
    },
    "papermill": {
     "duration": 0.074227,
     "end_time": "2022-02-17T08:59:31.446428",
     "exception": false,
     "start_time": "2022-02-17T08:59:31.372201",
     "status": "completed"
    },
    "tags": []
   },
   "outputs": [],
   "source": [
    "from sklearn.linear_model import LogisticRegression\n",
    "from sklearn.neighbors import KNeighborsClassifier\n",
    "from sklearn.svm import SVC\n",
    "from sklearn.naive_bayes import GaussianNB\n",
    "from sklearn.tree import DecisionTreeClassifier\n",
    "from sklearn.ensemble import RandomForestClassifier\n",
    "from sklearn.model_selection import cross_val_score"
   ]
  },
  {
   "cell_type": "code",
   "execution_count": 33,
   "id": "c6aa5679",
   "metadata": {
    "execution": {
     "iopub.execute_input": "2022-02-17T08:59:31.579993Z",
     "iopub.status.busy": "2022-02-17T08:59:31.579281Z",
     "iopub.status.idle": "2022-02-17T08:59:31.684540Z",
     "shell.execute_reply": "2022-02-17T08:59:31.683892Z",
     "shell.execute_reply.started": "2022-02-17T08:40:25.045939Z"
    },
    "papermill": {
     "duration": 0.175164,
     "end_time": "2022-02-17T08:59:31.684693",
     "exception": false,
     "start_time": "2022-02-17T08:59:31.509529",
     "status": "completed"
    },
    "tags": []
   },
   "outputs": [
    {
     "name": "stdout",
     "output_type": "stream",
     "text": [
      "Logistic Regression\n",
      "Cross Val Score: 0.831\n",
      "Cross Val Score for Scaled Data: 0.829\n"
     ]
    }
   ],
   "source": [
    "# LogisticRegression\n",
    "classifier = LogisticRegression(solver='liblinear')\n",
    "\n",
    "score_unscaled = cross_val_score(classifier, X_train, y_train, cv=10).mean().round(3)\n",
    "score_scaled = cross_val_score(classifier, X_train_scaled, y_train, cv=10).mean().round(3)\n",
    "print(\"Logistic Regression\")\n",
    "print(\"Cross Val Score: {}\".format(score_unscaled))\n",
    "print(\"Cross Val Score for Scaled Data: {}\".format(score_scaled))"
   ]
  },
  {
   "cell_type": "code",
   "execution_count": 34,
   "id": "4832ed20",
   "metadata": {
    "execution": {
     "iopub.execute_input": "2022-02-17T08:59:31.823751Z",
     "iopub.status.busy": "2022-02-17T08:59:31.822471Z",
     "iopub.status.idle": "2022-02-17T08:59:31.993939Z",
     "shell.execute_reply": "2022-02-17T08:59:31.994494Z",
     "shell.execute_reply.started": "2022-02-17T08:40:33.501295Z"
    },
    "papermill": {
     "duration": 0.24292,
     "end_time": "2022-02-17T08:59:31.994714",
     "exception": false,
     "start_time": "2022-02-17T08:59:31.751794",
     "status": "completed"
    },
    "tags": []
   },
   "outputs": [
    {
     "name": "stdout",
     "output_type": "stream",
     "text": [
      "K-Nearest Neighbors\n",
      "Cross Val Score: 0.792\n",
      "Cross Val Score for Scaled Data: 0.814\n"
     ]
    }
   ],
   "source": [
    "# K-Nearest Neighbors\n",
    "classifier = KNeighborsClassifier()\n",
    "\n",
    "score_unscaled = cross_val_score(classifier, X_train, y_train, cv=10).mean().round(3)\n",
    "score_scaled = cross_val_score(classifier, X_train_scaled, y_train, cv=10).mean().round(3)\n",
    "print(\"K-Nearest Neighbors\")\n",
    "print(\"Cross Val Score: {}\".format(score_unscaled))\n",
    "print(\"Cross Val Score for Scaled Data: {}\".format(score_scaled))"
   ]
  },
  {
   "cell_type": "code",
   "execution_count": 35,
   "id": "12954758",
   "metadata": {
    "execution": {
     "iopub.execute_input": "2022-02-17T08:59:32.129854Z",
     "iopub.status.busy": "2022-02-17T08:59:32.129204Z",
     "iopub.status.idle": "2022-02-17T08:59:32.579195Z",
     "shell.execute_reply": "2022-02-17T08:59:32.579877Z",
     "shell.execute_reply.started": "2022-02-17T08:40:36.576654Z"
    },
    "papermill": {
     "duration": 0.521038,
     "end_time": "2022-02-17T08:59:32.580093",
     "exception": false,
     "start_time": "2022-02-17T08:59:32.059055",
     "status": "completed"
    },
    "tags": []
   },
   "outputs": [
    {
     "name": "stdout",
     "output_type": "stream",
     "text": [
      "Support Vector Classifier\n",
      "Cross Val Score: 0.708\n",
      "Cross Val Score for Scaled Data: 0.824\n"
     ]
    }
   ],
   "source": [
    "# Support Vector Classifier (SVC)\n",
    "classifier = SVC()\n",
    "\n",
    "score_unscaled = cross_val_score(classifier, X_train, y_train, cv=10).mean().round(3)\n",
    "score_scaled = cross_val_score(classifier, X_train_scaled, y_train, cv=10).mean().round(3)\n",
    "print(\"Support Vector Classifier\")\n",
    "print(\"Cross Val Score: {}\".format(score_unscaled))\n",
    "print(\"Cross Val Score for Scaled Data: {}\".format(score_scaled))"
   ]
  },
  {
   "cell_type": "code",
   "execution_count": 36,
   "id": "bf87bac3",
   "metadata": {
    "execution": {
     "iopub.execute_input": "2022-02-17T08:59:32.717052Z",
     "iopub.status.busy": "2022-02-17T08:59:32.713641Z",
     "iopub.status.idle": "2022-02-17T08:59:32.791588Z",
     "shell.execute_reply": "2022-02-17T08:59:32.790994Z",
     "shell.execute_reply.started": "2022-02-17T08:40:44.044189Z"
    },
    "papermill": {
     "duration": 0.146516,
     "end_time": "2022-02-17T08:59:32.791755",
     "exception": false,
     "start_time": "2022-02-17T08:59:32.645239",
     "status": "completed"
    },
    "tags": []
   },
   "outputs": [
    {
     "name": "stdout",
     "output_type": "stream",
     "text": [
      "Naive Bayes\n",
      "Cross Val Score: 0.785\n",
      "Cross Val Score for Scaled Data: 0.785\n"
     ]
    }
   ],
   "source": [
    "# Naive Bayes\n",
    "classifier = GaussianNB()\n",
    "\n",
    "score_unscaled = cross_val_score(classifier, X_train, y_train, cv=10).mean().round(3)\n",
    "score_scaled = cross_val_score(classifier, X_train_scaled, y_train, cv=10).mean().round(3)\n",
    "print(\"Naive Bayes\")\n",
    "print(\"Cross Val Score: {}\".format(score_unscaled))\n",
    "print(\"Cross Val Score for Scaled Data: {}\".format(score_scaled))"
   ]
  },
  {
   "cell_type": "code",
   "execution_count": 37,
   "id": "a475a1a7",
   "metadata": {
    "execution": {
     "iopub.execute_input": "2022-02-17T08:59:32.929699Z",
     "iopub.status.busy": "2022-02-17T08:59:32.925861Z",
     "iopub.status.idle": "2022-02-17T08:59:33.027662Z",
     "shell.execute_reply": "2022-02-17T08:59:33.026951Z",
     "shell.execute_reply.started": "2022-02-17T08:40:46.350065Z"
    },
    "papermill": {
     "duration": 0.170261,
     "end_time": "2022-02-17T08:59:33.027861",
     "exception": false,
     "start_time": "2022-02-17T08:59:32.857600",
     "status": "completed"
    },
    "tags": []
   },
   "outputs": [
    {
     "name": "stdout",
     "output_type": "stream",
     "text": [
      "Decision Tree Classifier\n",
      "Cross Val Score: 0.781\n",
      "Cross Val Score for Scaled Data: 0.785\n"
     ]
    }
   ],
   "source": [
    "# Decision Tree Classification\n",
    "classifier = DecisionTreeClassifier()\n",
    "\n",
    "score_unscaled = cross_val_score(classifier, X_train, y_train, cv=10).mean().round(3)\n",
    "score_scaled = cross_val_score(classifier, X_train_scaled, y_train, cv=10).mean().round(3)\n",
    "print(\"Decision Tree Classifier\")\n",
    "print(\"Cross Val Score: {}\".format(score_unscaled))\n",
    "print(\"Cross Val Score for Scaled Data: {}\".format(score_scaled))"
   ]
  },
  {
   "cell_type": "code",
   "execution_count": 38,
   "id": "796989aa",
   "metadata": {
    "execution": {
     "iopub.execute_input": "2022-02-17T08:59:33.161820Z",
     "iopub.status.busy": "2022-02-17T08:59:33.161096Z",
     "iopub.status.idle": "2022-02-17T08:59:37.753238Z",
     "shell.execute_reply": "2022-02-17T08:59:37.753960Z",
     "shell.execute_reply.started": "2022-02-17T08:40:47.949183Z"
    },
    "papermill": {
     "duration": 4.660031,
     "end_time": "2022-02-17T08:59:37.754209",
     "exception": false,
     "start_time": "2022-02-17T08:59:33.094178",
     "status": "completed"
    },
    "tags": []
   },
   "outputs": [
    {
     "name": "stdout",
     "output_type": "stream",
     "text": [
      "Random Forest Classifier\n",
      "Cross Val Score: 0.812\n",
      "Cross Val Score for Scaled Data: 0.813\n"
     ]
    }
   ],
   "source": [
    "# Random Forest Classification\n",
    "classifier = RandomForestClassifier()\n",
    "\n",
    "score_unscaled = cross_val_score(classifier, X_train, y_train, cv=10).mean().round(3)\n",
    "score_scaled = cross_val_score(classifier, X_train_scaled, y_train, cv=10).mean().round(3)\n",
    "print(\"Random Forest Classifier\")\n",
    "print(\"Cross Val Score: {}\".format(score_unscaled))\n",
    "print(\"Cross Val Score for Scaled Data: {}\".format(score_scaled))"
   ]
  },
  {
   "cell_type": "markdown",
   "id": "5679c385",
   "metadata": {
    "papermill": {
     "duration": 0.064517,
     "end_time": "2022-02-17T08:59:37.884573",
     "exception": false,
     "start_time": "2022-02-17T08:59:37.820056",
     "status": "completed"
    },
    "tags": []
   },
   "source": [
    "# 4. Modeling and Submission"
   ]
  },
  {
   "cell_type": "code",
   "execution_count": 39,
   "id": "27e2223e",
   "metadata": {
    "execution": {
     "iopub.execute_input": "2022-02-17T08:59:38.152002Z",
     "iopub.status.busy": "2022-02-17T08:59:38.151341Z",
     "iopub.status.idle": "2022-02-17T08:59:38.177774Z",
     "shell.execute_reply": "2022-02-17T08:59:38.178222Z"
    },
    "papermill": {
     "duration": 0.094612,
     "end_time": "2022-02-17T08:59:38.178392",
     "exception": false,
     "start_time": "2022-02-17T08:59:38.083780",
     "status": "completed"
    },
    "tags": []
   },
   "outputs": [
    {
     "data": {
      "text/plain": [
       "SVC()"
      ]
     },
     "execution_count": 39,
     "metadata": {},
     "output_type": "execute_result"
    }
   ],
   "source": [
    "# SVC\n",
    "classifier = SVC()\n",
    "classifier.fit(X_train_scaled, y_train)"
   ]
  },
  {
   "cell_type": "code",
   "execution_count": 40,
   "id": "7ae60c20",
   "metadata": {
    "execution": {
     "iopub.execute_input": "2022-02-17T08:59:38.312898Z",
     "iopub.status.busy": "2022-02-17T08:59:38.312261Z",
     "iopub.status.idle": "2022-02-17T08:59:38.320372Z",
     "shell.execute_reply": "2022-02-17T08:59:38.320853Z",
     "shell.execute_reply.started": "2022-02-11T13:00:27.912362Z"
    },
    "papermill": {
     "duration": 0.077072,
     "end_time": "2022-02-17T08:59:38.321034",
     "exception": false,
     "start_time": "2022-02-17T08:59:38.243962",
     "status": "completed"
    },
    "tags": []
   },
   "outputs": [],
   "source": [
    "y_pred = classifier.predict(X_test_scaled)"
   ]
  },
  {
   "cell_type": "code",
   "execution_count": 41,
   "id": "ab043e1b",
   "metadata": {
    "execution": {
     "iopub.execute_input": "2022-02-17T08:59:38.456108Z",
     "iopub.status.busy": "2022-02-17T08:59:38.455460Z",
     "iopub.status.idle": "2022-02-17T08:59:38.463321Z",
     "shell.execute_reply": "2022-02-17T08:59:38.463807Z"
    },
    "papermill": {
     "duration": 0.076851,
     "end_time": "2022-02-17T08:59:38.463968",
     "exception": false,
     "start_time": "2022-02-17T08:59:38.387117",
     "status": "completed"
    },
    "tags": []
   },
   "outputs": [
    {
     "data": {
      "text/html": [
       "<div>\n",
       "<style scoped>\n",
       "    .dataframe tbody tr th:only-of-type {\n",
       "        vertical-align: middle;\n",
       "    }\n",
       "\n",
       "    .dataframe tbody tr th {\n",
       "        vertical-align: top;\n",
       "    }\n",
       "\n",
       "    .dataframe thead th {\n",
       "        text-align: right;\n",
       "    }\n",
       "</style>\n",
       "<table border=\"1\" class=\"dataframe\">\n",
       "  <thead>\n",
       "    <tr style=\"text-align: right;\">\n",
       "      <th></th>\n",
       "      <th>PassengerId</th>\n",
       "      <th>Survived</th>\n",
       "    </tr>\n",
       "  </thead>\n",
       "  <tbody>\n",
       "    <tr>\n",
       "      <th>0</th>\n",
       "      <td>892</td>\n",
       "      <td>0</td>\n",
       "    </tr>\n",
       "    <tr>\n",
       "      <th>1</th>\n",
       "      <td>893</td>\n",
       "      <td>1</td>\n",
       "    </tr>\n",
       "    <tr>\n",
       "      <th>2</th>\n",
       "      <td>894</td>\n",
       "      <td>0</td>\n",
       "    </tr>\n",
       "    <tr>\n",
       "      <th>3</th>\n",
       "      <td>895</td>\n",
       "      <td>0</td>\n",
       "    </tr>\n",
       "    <tr>\n",
       "      <th>4</th>\n",
       "      <td>896</td>\n",
       "      <td>1</td>\n",
       "    </tr>\n",
       "  </tbody>\n",
       "</table>\n",
       "</div>"
      ],
      "text/plain": [
       "   PassengerId  Survived\n",
       "0          892         0\n",
       "1          893         1\n",
       "2          894         0\n",
       "3          895         0\n",
       "4          896         1"
      ]
     },
     "execution_count": 41,
     "metadata": {},
     "output_type": "execute_result"
    }
   ],
   "source": [
    "result = pd.DataFrame({'PassengerId': df_test.PassengerId, 'Survived': y_pred})\n",
    "result.head()"
   ]
  },
  {
   "cell_type": "code",
   "execution_count": 42,
   "id": "fa60d4a2",
   "metadata": {
    "execution": {
     "iopub.execute_input": "2022-02-17T08:59:38.602691Z",
     "iopub.status.busy": "2022-02-17T08:59:38.601713Z",
     "iopub.status.idle": "2022-02-17T08:59:38.607490Z",
     "shell.execute_reply": "2022-02-17T08:59:38.608217Z"
    },
    "papermill": {
     "duration": 0.078173,
     "end_time": "2022-02-17T08:59:38.608423",
     "exception": false,
     "start_time": "2022-02-17T08:59:38.530250",
     "status": "completed"
    },
    "tags": []
   },
   "outputs": [
    {
     "name": "stdout",
     "output_type": "stream",
     "text": [
      "Resuls are saved to submission.csv\n"
     ]
    }
   ],
   "source": [
    "result.to_csv('submission.csv', index=False)\n",
    "print(\"Resuls are saved to submission.csv\")"
   ]
  },
  {
   "cell_type": "code",
   "execution_count": 43,
   "id": "241a63cf",
   "metadata": {
    "execution": {
     "iopub.execute_input": "2022-02-17T08:59:38.883982Z",
     "iopub.status.busy": "2022-02-17T08:59:38.883294Z",
     "iopub.status.idle": "2022-02-17T08:59:48.311966Z",
     "shell.execute_reply": "2022-02-17T08:59:48.312446Z",
     "shell.execute_reply.started": "2022-02-17T08:44:26.741759Z"
    },
    "papermill": {
     "duration": 9.502928,
     "end_time": "2022-02-17T08:59:48.312654",
     "exception": false,
     "start_time": "2022-02-17T08:59:38.809726",
     "status": "completed"
    },
    "tags": []
   },
   "outputs": [
    {
     "name": "stdout",
     "output_type": "stream",
     "text": [
      "Best Score: 0.8327474734793799\n",
      "Best Parameters: {'C': 10, 'gamma': 0.01, 'kernel': 'rbf'}\n",
      "Model: SVC(C=10, gamma=0.01)\n"
     ]
    }
   ],
   "source": [
    "# Hyperparameter tuning\n",
    "from sklearn.model_selection import GridSearchCV\n",
    "\n",
    "parameters = {'C': [0.1, 1, 10, 100, 1000],\n",
    "              'gamma': [1, 0.1, 0.01, 0.001, 0.0001],\n",
    "              'kernel': ['rbf', 'sigmoid']\n",
    "             }\n",
    "\n",
    "grid = GridSearchCV(SVC(), parameters, refit = True)\n",
    "grid.fit(X_train_scaled,y_train)\n",
    "\n",
    "# printing results\n",
    "print(\"Best Score: {}\".format(grid.best_score_))\n",
    "print(\"Best Parameters: {}\".format(grid.best_params_))\n",
    "print(\"Model: {}\".format(grid.best_estimator_))"
   ]
  },
  {
   "cell_type": "markdown",
   "id": "56b3924f",
   "metadata": {
    "papermill": {
     "duration": 0.080253,
     "end_time": "2022-02-17T08:59:48.465196",
     "exception": false,
     "start_time": "2022-02-17T08:59:48.384943",
     "status": "completed"
    },
    "tags": []
   },
   "source": [
    "\n",
    " best score using SVC with default parameters.\n",
    "\n"
   ]
  }
 ],
 "metadata": {
  "kernelspec": {
   "display_name": "Python 3",
   "language": "python",
   "name": "python3"
  },
  "language_info": {
   "codemirror_mode": {
    "name": "ipython",
    "version": 3
   },
   "file_extension": ".py",
   "mimetype": "text/x-python",
   "name": "python",
   "nbconvert_exporter": "python",
   "pygments_lexer": "ipython3",
   "version": "3.8.8"
  },
  "papermill": {
   "default_parameters": {},
   "duration": 38.525427,
   "end_time": "2022-02-17T08:59:49.349806",
   "environment_variables": {},
   "exception": null,
   "input_path": "__notebook__.ipynb",
   "output_path": "__notebook__.ipynb",
   "parameters": {},
   "start_time": "2022-02-17T08:59:10.824379",
   "version": "2.3.3"
  }
 },
 "nbformat": 4,
 "nbformat_minor": 5
}
